{
 "cells": [
  {
   "cell_type": "markdown",
   "metadata": {
    "id": "O13LTOjbXziJ"
   },
   "source": [
    "**USER BASED COLLABORATIVE FILTERING**\n",
    "open in google colab  https://colab.research.google.com/drive/1NImjLB1uaIKhi94JgiKsWnovLvDVYCvJ?usp=sharing"
   ]
  },
  {
   "cell_type": "code",
   "execution_count": 1,
   "metadata": {
    "id": "8AjTNOYXLQby"
   },
   "outputs": [],
   "source": [
    "\n",
    "import os\n",
    "\n",
    "if not (os.path.exists(\"recsys.zip\") or os.path.exists(\"recsys\")):\n",
    "    !wget https://github.com/nzhinusoftcm/review-on-collaborative-filtering/raw/master/recsys.zip    \n",
    "    !unzip recsys.zip\n"
   ]
  },
  {
   "cell_type": "code",
   "execution_count": 2,
   "metadata": {
    "id": "W6ZCzSL5LQbz"
   },
   "outputs": [
    {
     "name": "stderr",
     "output_type": "stream",
     "text": [
      "/Users/vijaykumawat/opt/anaconda3/lib/python3.9/site-packages/scipy/__init__.py:146: UserWarning: A NumPy version >=1.16.5 and <1.23.0 is required for this version of SciPy (detected version 1.23.4\n",
      "  warnings.warn(f\"A NumPy version >={np_minversion} and <{np_maxversion}\"\n"
     ]
    }
   ],
   "source": [
    "from sklearn.neighbors import NearestNeighbors\n",
    "from scipy.sparse import csr_matrix\n",
    "\n",
    "from recsys.datasets import ml100k\n",
    "from recsys.preprocessing import ids_encoder\n",
    "\n",
    "import pandas as pd\n",
    "import numpy as np\n",
    "import zipfile"
   ]
  },
  {
   "cell_type": "markdown",
   "metadata": {
    "id": "hmL2UnFKLQbz"
   },
   "source": [
    "### Load MovieLen ratings"
   ]
  },
  {
   "cell_type": "code",
   "execution_count": 3,
   "metadata": {
    "id": "pFBLo3kDLQbz"
   },
   "outputs": [],
   "source": [
    "ratings, movies = ml100k.load()"
   ]
  },
  {
   "cell_type": "markdown",
   "metadata": {
    "id": "rAlKGH-0LQbz"
   },
   "source": [
    "### userids and itemids encoding"
   ]
  },
  {
   "cell_type": "code",
   "execution_count": 4,
   "metadata": {
    "id": "OqjzzybPLQbz"
   },
   "outputs": [],
   "source": [
    "# creating the encoder\n",
    "ratings, uencoder, iencoder = ids_encoder(ratings)"
   ]
  },
  {
   "cell_type": "markdown",
   "metadata": {
    "id": "7iZG_-kSLQbz"
   },
   "source": [
    "### Transform rating dataframe to matrix"
   ]
  },
  {
   "cell_type": "code",
   "execution_count": 5,
   "metadata": {
    "colab": {
     "base_uri": "https://localhost:8080/"
    },
    "id": "ZMTZOiOTLQb0",
    "outputId": "2287e743-94d8-4ddd-fd2c-8eae1070976b"
   },
   "outputs": [
    {
     "name": "stdout",
     "output_type": "stream",
     "text": [
      "  (0, 0)\t5.0\n",
      "  (0, 1)\t3.0\n",
      "  (0, 2)\t4.0\n",
      "  (0, 3)\t3.0\n",
      "  (0, 4)\t3.0\n",
      "  (0, 5)\t5.0\n",
      "  (0, 6)\t4.0\n",
      "  (0, 7)\t1.0\n",
      "  (0, 8)\t5.0\n",
      "  (0, 9)\t3.0\n",
      "  (0, 10)\t2.0\n",
      "  (0, 11)\t5.0\n",
      "  (0, 12)\t5.0\n",
      "  (0, 13)\t5.0\n",
      "  (0, 14)\t5.0\n",
      "  (0, 15)\t5.0\n",
      "  (0, 16)\t3.0\n",
      "  (0, 17)\t4.0\n",
      "  (0, 18)\t5.0\n",
      "  (0, 19)\t4.0\n",
      "  (0, 20)\t1.0\n",
      "  (0, 21)\t4.0\n",
      "  (0, 22)\t4.0\n",
      "  (0, 23)\t3.0\n",
      "  (0, 24)\t4.0\n",
      "  :\t:\n",
      "  (942, 738)\t4.0\n",
      "  (942, 755)\t2.0\n",
      "  (942, 762)\t4.0\n",
      "  (942, 764)\t3.0\n",
      "  (942, 784)\t2.0\n",
      "  (942, 793)\t3.0\n",
      "  (942, 795)\t3.0\n",
      "  (942, 807)\t4.0\n",
      "  (942, 815)\t4.0\n",
      "  (942, 823)\t4.0\n",
      "  (942, 824)\t3.0\n",
      "  (942, 830)\t2.0\n",
      "  (942, 839)\t4.0\n",
      "  (942, 927)\t5.0\n",
      "  (942, 940)\t1.0\n",
      "  (942, 942)\t5.0\n",
      "  (942, 1010)\t2.0\n",
      "  (942, 1027)\t2.0\n",
      "  (942, 1043)\t3.0\n",
      "  (942, 1046)\t2.0\n",
      "  (942, 1066)\t2.0\n",
      "  (942, 1073)\t4.0\n",
      "  (942, 1187)\t3.0\n",
      "  (942, 1227)\t3.0\n",
      "  (942, 1329)\t3.0\n"
     ]
    }
   ],
   "source": [
    "def ratingsmatrix(ratings):    \n",
    "    return csr_matrix(pd.crosstab(ratings.userid, ratings.itemid, ratings.rating, aggfunc=sum).fillna(0).values)    \n",
    "\n",
    "R = ratingsmatrix(ratings)\n",
    "print(R)"
   ]
  },
  {
   "cell_type": "code",
   "execution_count": 6,
   "metadata": {
    "id": "ayy8PYe4LQb1"
   },
   "outputs": [],
   "source": [
    "def model_CF(rating_matrix, metric):\n",
    "    \"\"\"\n",
    "    - create the nearest neighbors model with the corresponding similarity metric\n",
    "    - fit the model\n",
    "    \"\"\"\n",
    "    model = NearestNeighbors(metric=metric, n_neighbors=21, algorithm='brute')\n",
    "    model.fit(rating_matrix)    \n",
    "    return model"
   ]
  },
  {
   "cell_type": "code",
   "execution_count": 7,
   "metadata": {
    "id": "7Qz09z-MLQb1"
   },
   "outputs": [],
   "source": [
    "def NN(rating_matrix, model):\n",
    "    \"\"\"    \n",
    "    :param rating_matrix : rating matrix of shape (nb_users, nb_items)\n",
    "    :param model : nearest neighbors model    \n",
    "    :return\n",
    "        - similarities : distances of the neighbors from the referenced user\n",
    "        - neighbors : neighbors of the referenced user in decreasing order of similarities\n",
    "    \"\"\"    \n",
    "    similarities, neighbors = model.kneighbors(rating_matrix)        \n",
    "    return similarities[:, 1:], neighbors[:, 1:]\n",
    "\n",
    "model = model_CF(rating_matrix=R, metric='cosine')\n",
    "similarities, neighbors = NN(R, model)\n"
   ]
  },
  {
   "cell_type": "code",
   "execution_count": 8,
   "metadata": {
    "id": "Bw8Rs7p6LQb1"
   },
   "outputs": [],
   "source": [
    "def candidateItems(userid):\n",
    "    \"\"\"\n",
    "    Find candidate items for an active user\n",
    "    \n",
    "    :param userid : active user\n",
    "    :param neighbors : users similar to the active user        \n",
    "    :return candidates : top 30 of candidate items\n",
    "    \"\"\"\n",
    "    user_neighbors = neighbors[userid]\n",
    "    activities = ratings.loc[ratings.userid.isin(user_neighbors)]\n",
    "    \n",
    "    # sorting items in descending order of frequency\n",
    "    frequency = activities.groupby('itemid')['rating'].count().reset_index(name='count').sort_values(['count'],ascending=False)\n",
    "    Gu_items = frequency.itemid\n",
    "    active_items = ratings.loc[ratings.userid == userid].itemid.to_list()\n",
    "    candidates = np.setdiff1d(Gu_items, active_items, assume_unique=True)[:30]\n",
    "        \n",
    "    return candidates"
   ]
  },
  {
   "cell_type": "code",
   "execution_count": 9,
   "metadata": {
    "id": "Tk8Yy5POLQb1"
   },
   "outputs": [],
   "source": [
    "# user mean ratings \n",
    "mean = ratings.groupby(by='userid', as_index=False)['rating'].mean()\n",
    "rating_mean = pd.merge(ratings, mean, suffixes=('','_mean'), on='userid')\n",
    "\n",
    "# each items normalized rating\n",
    "rating_mean['norm_rating'] = rating_mean['rating'] - rating_mean['rating_mean']\n",
    "\n",
    "mean = mean.to_numpy()[:, 1]\n",
    "\n",
    "np_ratings = rating_mean.to_numpy()"
   ]
  },
  {
   "cell_type": "code",
   "execution_count": 10,
   "metadata": {
    "colab": {
     "base_uri": "https://localhost:8080/"
    },
    "id": "_WUJchOGLQb1",
    "outputId": "18f20455-749c-473b-eca4-0ab417e582eb"
   },
   "outputs": [
    {
     "name": "stdout",
     "output_type": "stream",
     "text": [
      "Rating predictions. Progress status : 99.9%"
     ]
    }
   ],
   "source": [
    "def predict(userid, itemid):\n",
    "    \"\"\"\n",
    "    predict what score userid would have given to itemid.\n",
    "    \n",
    "    :param\n",
    "        - userid : user id for which we want to make prediction\n",
    "        - itemid : item id on which we want to make prediction\n",
    "        \n",
    "    :return\n",
    "        - r_hat : predicted rating of user userid on item itemid\n",
    "    \"\"\"\n",
    "    userSimilarities = similarities[userid]\n",
    "    user_neighbors = neighbors[userid]\n",
    "    # user userid mean rating\n",
    "    user_mean = mean[userid]\n",
    "    \n",
    "    # finding users who rated item 'itemid'\n",
    "    iratings = np_ratings[np_ratings[:, 1].astype('int') == itemid]\n",
    "    \n",
    "    # similar users to userid who rated item \n",
    "    suri = iratings[np.isin(iratings[:, 0], user_neighbors)]\n",
    "    \n",
    "    # list of similar user who rated current item\n",
    "    normalized_ratings = suri[:,4]\n",
    "    indexes = [np.where(user_neighbors == uid)[0][0] for uid in suri[:, 0].astype('int')]\n",
    "    sims = userSimilarities[indexes]\n",
    "    \n",
    "    num = np.dot(normalized_ratings, sims)\n",
    "    den = np.sum(np.abs(sims))\n",
    "    \n",
    "    if num == 0 or den == 0:\n",
    "        return user_mean\n",
    "    \n",
    "    r_hat = user_mean + np.dot(normalized_ratings, sims) / np.sum(np.abs(sims))\n",
    "    \n",
    "    return r_hat\n",
    "\n",
    "def predictionUser2user(userid, pred_path):\n",
    "    \"\"\"\n",
    "    Make rating prediction for the active user on each candidate item and save in file prediction.csv\n",
    "    \n",
    "    :param\n",
    "        - userid : id of the active user\n",
    "        - pred_path : where to save predictions\n",
    "    \"\"\"    \n",
    "    # active user candidate items\n",
    "    candidates = candidateItems(userid)\n",
    "    \n",
    "  \n",
    "    for itemid in candidates:\n",
    "        \n",
    "        # prediction \n",
    "        r_hat = predict(userid, itemid)\n",
    "        \n",
    "        # saving prediction\n",
    "        with open(pred_path, 'a+') as file:\n",
    "            line = '{},{},{}\\n'.format(userid, itemid, r_hat)\n",
    "            file.write(line)\n",
    "\n",
    "import sys\n",
    "\n",
    "def userCF():\n",
    "    \"\"\"\n",
    "    Make predictions for each user in the database.    \n",
    "    \"\"\"\n",
    "  \n",
    "    users = ratings.userid.unique()\n",
    "    \n",
    "    def _progress(count):\n",
    "        sys.stdout.write('\\rRating predictions. Progress status : %.1f%%' % (float(count/len(users))*100.0))\n",
    "        sys.stdout.flush()\n",
    "    \n",
    "    predictions_file = 'predictions.csv'    \n",
    "    if os.path.exists(predictions_file):\n",
    "        os.remove(predictions_file)\n",
    "    \n",
    "    for count, userid in enumerate(users):        \n",
    "        # predicting rrating for current user\n",
    "        predictionUser2user(userid, predictions_file)\n",
    "        _progress(count)\n",
    "\n",
    "userCF()\n",
    "\n",
    "def Recommendation_userCF(userid):\n",
    "    \"\"\"\n",
    "    \"\"\"\n",
    "    # encoding the userid\n",
    "    uid = uencoder.transform([userid])[0]\n",
    "    predictions_file = 'predictions.csv'\n",
    "    \n",
    "    predictions = pd.read_csv(predictions_file, sep=',', names=['userid', 'itemid', 'predicted_rating'])\n",
    "    predictions = predictions[predictions.userid==uid]\n",
    "    List = predictions.sort_values(by=['predicted_rating'], ascending=False)\n",
    "    \n",
    "    List.userid = uencoder.inverse_transform(List.userid.tolist())\n",
    "    List.itemid = iencoder.inverse_transform(List.itemid.tolist())\n",
    "    \n",
    "    List = pd.merge(List, movies, on='itemid', how='inner')\n",
    "    \n",
    "    return List"
   ]
  },
  {
   "cell_type": "code",
   "execution_count": 11,
   "metadata": {
    "colab": {
     "base_uri": "https://localhost:8080/",
     "height": 990
    },
    "id": "h3cTs600LQb2",
    "outputId": "15ae6ba2-5098-43f5-a8a7-88986f2d7458"
   },
   "outputs": [
    {
     "data": {
      "text/html": [
       "<div>\n",
       "<style scoped>\n",
       "    .dataframe tbody tr th:only-of-type {\n",
       "        vertical-align: middle;\n",
       "    }\n",
       "\n",
       "    .dataframe tbody tr th {\n",
       "        vertical-align: top;\n",
       "    }\n",
       "\n",
       "    .dataframe thead th {\n",
       "        text-align: right;\n",
       "    }\n",
       "</style>\n",
       "<table border=\"1\" class=\"dataframe\">\n",
       "  <thead>\n",
       "    <tr style=\"text-align: right;\">\n",
       "      <th></th>\n",
       "      <th>userid</th>\n",
       "      <th>itemid</th>\n",
       "      <th>predicted_rating</th>\n",
       "      <th>title</th>\n",
       "    </tr>\n",
       "  </thead>\n",
       "  <tbody>\n",
       "    <tr>\n",
       "      <th>0</th>\n",
       "      <td>212</td>\n",
       "      <td>483</td>\n",
       "      <td>4.871495</td>\n",
       "      <td>Casablanca (1942)</td>\n",
       "    </tr>\n",
       "    <tr>\n",
       "      <th>1</th>\n",
       "      <td>212</td>\n",
       "      <td>357</td>\n",
       "      <td>4.764547</td>\n",
       "      <td>One Flew Over the Cuckoo's Nest (1975)</td>\n",
       "    </tr>\n",
       "    <tr>\n",
       "      <th>2</th>\n",
       "      <td>212</td>\n",
       "      <td>50</td>\n",
       "      <td>4.660002</td>\n",
       "      <td>Star Wars (1977)</td>\n",
       "    </tr>\n",
       "    <tr>\n",
       "      <th>3</th>\n",
       "      <td>212</td>\n",
       "      <td>98</td>\n",
       "      <td>4.613636</td>\n",
       "      <td>Silence of the Lambs, The (1991)</td>\n",
       "    </tr>\n",
       "    <tr>\n",
       "      <th>4</th>\n",
       "      <td>212</td>\n",
       "      <td>64</td>\n",
       "      <td>4.550733</td>\n",
       "      <td>Shawshank Redemption, The (1994)</td>\n",
       "    </tr>\n",
       "    <tr>\n",
       "      <th>5</th>\n",
       "      <td>212</td>\n",
       "      <td>194</td>\n",
       "      <td>4.522336</td>\n",
       "      <td>Sting, The (1973)</td>\n",
       "    </tr>\n",
       "    <tr>\n",
       "      <th>6</th>\n",
       "      <td>212</td>\n",
       "      <td>174</td>\n",
       "      <td>4.521300</td>\n",
       "      <td>Raiders of the Lost Ark (1981)</td>\n",
       "    </tr>\n",
       "    <tr>\n",
       "      <th>7</th>\n",
       "      <td>212</td>\n",
       "      <td>134</td>\n",
       "      <td>4.414819</td>\n",
       "      <td>Citizen Kane (1941)</td>\n",
       "    </tr>\n",
       "    <tr>\n",
       "      <th>8</th>\n",
       "      <td>212</td>\n",
       "      <td>187</td>\n",
       "      <td>4.344531</td>\n",
       "      <td>Godfather: Part II, The (1974)</td>\n",
       "    </tr>\n",
       "    <tr>\n",
       "      <th>9</th>\n",
       "      <td>212</td>\n",
       "      <td>196</td>\n",
       "      <td>4.303696</td>\n",
       "      <td>Dead Poets Society (1989)</td>\n",
       "    </tr>\n",
       "    <tr>\n",
       "      <th>10</th>\n",
       "      <td>212</td>\n",
       "      <td>523</td>\n",
       "      <td>4.281802</td>\n",
       "      <td>Cool Hand Luke (1967)</td>\n",
       "    </tr>\n",
       "    <tr>\n",
       "      <th>11</th>\n",
       "      <td>212</td>\n",
       "      <td>216</td>\n",
       "      <td>4.278246</td>\n",
       "      <td>When Harry Met Sally... (1989)</td>\n",
       "    </tr>\n",
       "    <tr>\n",
       "      <th>12</th>\n",
       "      <td>212</td>\n",
       "      <td>100</td>\n",
       "      <td>4.260087</td>\n",
       "      <td>Fargo (1996)</td>\n",
       "    </tr>\n",
       "    <tr>\n",
       "      <th>13</th>\n",
       "      <td>212</td>\n",
       "      <td>168</td>\n",
       "      <td>4.206139</td>\n",
       "      <td>Monty Python and the Holy Grail (1974)</td>\n",
       "    </tr>\n",
       "    <tr>\n",
       "      <th>14</th>\n",
       "      <td>212</td>\n",
       "      <td>435</td>\n",
       "      <td>4.122984</td>\n",
       "      <td>Butch Cassidy and the Sundance Kid (1969)</td>\n",
       "    </tr>\n",
       "    <tr>\n",
       "      <th>15</th>\n",
       "      <td>212</td>\n",
       "      <td>135</td>\n",
       "      <td>4.115228</td>\n",
       "      <td>2001: A Space Odyssey (1968)</td>\n",
       "    </tr>\n",
       "    <tr>\n",
       "      <th>16</th>\n",
       "      <td>212</td>\n",
       "      <td>83</td>\n",
       "      <td>4.106995</td>\n",
       "      <td>Much Ado About Nothing (1993)</td>\n",
       "    </tr>\n",
       "    <tr>\n",
       "      <th>17</th>\n",
       "      <td>212</td>\n",
       "      <td>69</td>\n",
       "      <td>4.086366</td>\n",
       "      <td>Forrest Gump (1994)</td>\n",
       "    </tr>\n",
       "    <tr>\n",
       "      <th>18</th>\n",
       "      <td>212</td>\n",
       "      <td>70</td>\n",
       "      <td>4.086328</td>\n",
       "      <td>Four Weddings and a Funeral (1994)</td>\n",
       "    </tr>\n",
       "    <tr>\n",
       "      <th>19</th>\n",
       "      <td>212</td>\n",
       "      <td>275</td>\n",
       "      <td>3.985037</td>\n",
       "      <td>Sense and Sensibility (1995)</td>\n",
       "    </tr>\n",
       "    <tr>\n",
       "      <th>20</th>\n",
       "      <td>212</td>\n",
       "      <td>153</td>\n",
       "      <td>3.981619</td>\n",
       "      <td>Fish Called Wanda, A (1988)</td>\n",
       "    </tr>\n",
       "    <tr>\n",
       "      <th>21</th>\n",
       "      <td>212</td>\n",
       "      <td>514</td>\n",
       "      <td>3.956640</td>\n",
       "      <td>Annie Hall (1977)</td>\n",
       "    </tr>\n",
       "    <tr>\n",
       "      <th>22</th>\n",
       "      <td>212</td>\n",
       "      <td>521</td>\n",
       "      <td>3.937792</td>\n",
       "      <td>Deer Hunter, The (1978)</td>\n",
       "    </tr>\n",
       "    <tr>\n",
       "      <th>23</th>\n",
       "      <td>212</td>\n",
       "      <td>97</td>\n",
       "      <td>3.906106</td>\n",
       "      <td>Dances with Wolves (1990)</td>\n",
       "    </tr>\n",
       "    <tr>\n",
       "      <th>24</th>\n",
       "      <td>212</td>\n",
       "      <td>173</td>\n",
       "      <td>3.879325</td>\n",
       "      <td>Princess Bride, The (1987)</td>\n",
       "    </tr>\n",
       "    <tr>\n",
       "      <th>25</th>\n",
       "      <td>212</td>\n",
       "      <td>660</td>\n",
       "      <td>3.847897</td>\n",
       "      <td>Fried Green Tomatoes (1991)</td>\n",
       "    </tr>\n",
       "    <tr>\n",
       "      <th>26</th>\n",
       "      <td>212</td>\n",
       "      <td>215</td>\n",
       "      <td>3.709920</td>\n",
       "      <td>Field of Dreams (1989)</td>\n",
       "    </tr>\n",
       "    <tr>\n",
       "      <th>27</th>\n",
       "      <td>212</td>\n",
       "      <td>258</td>\n",
       "      <td>3.583718</td>\n",
       "      <td>Contact (1997)</td>\n",
       "    </tr>\n",
       "    <tr>\n",
       "      <th>28</th>\n",
       "      <td>212</td>\n",
       "      <td>202</td>\n",
       "      <td>3.508617</td>\n",
       "      <td>Groundhog Day (1993)</td>\n",
       "    </tr>\n",
       "    <tr>\n",
       "      <th>29</th>\n",
       "      <td>212</td>\n",
       "      <td>237</td>\n",
       "      <td>3.039041</td>\n",
       "      <td>Jerry Maguire (1996)</td>\n",
       "    </tr>\n",
       "  </tbody>\n",
       "</table>\n",
       "</div>"
      ],
      "text/plain": [
       "    userid  itemid  predicted_rating  \\\n",
       "0      212     483          4.871495   \n",
       "1      212     357          4.764547   \n",
       "2      212      50          4.660002   \n",
       "3      212      98          4.613636   \n",
       "4      212      64          4.550733   \n",
       "5      212     194          4.522336   \n",
       "6      212     174          4.521300   \n",
       "7      212     134          4.414819   \n",
       "8      212     187          4.344531   \n",
       "9      212     196          4.303696   \n",
       "10     212     523          4.281802   \n",
       "11     212     216          4.278246   \n",
       "12     212     100          4.260087   \n",
       "13     212     168          4.206139   \n",
       "14     212     435          4.122984   \n",
       "15     212     135          4.115228   \n",
       "16     212      83          4.106995   \n",
       "17     212      69          4.086366   \n",
       "18     212      70          4.086328   \n",
       "19     212     275          3.985037   \n",
       "20     212     153          3.981619   \n",
       "21     212     514          3.956640   \n",
       "22     212     521          3.937792   \n",
       "23     212      97          3.906106   \n",
       "24     212     173          3.879325   \n",
       "25     212     660          3.847897   \n",
       "26     212     215          3.709920   \n",
       "27     212     258          3.583718   \n",
       "28     212     202          3.508617   \n",
       "29     212     237          3.039041   \n",
       "\n",
       "                                        title  \n",
       "0                           Casablanca (1942)  \n",
       "1      One Flew Over the Cuckoo's Nest (1975)  \n",
       "2                            Star Wars (1977)  \n",
       "3            Silence of the Lambs, The (1991)  \n",
       "4            Shawshank Redemption, The (1994)  \n",
       "5                           Sting, The (1973)  \n",
       "6              Raiders of the Lost Ark (1981)  \n",
       "7                         Citizen Kane (1941)  \n",
       "8              Godfather: Part II, The (1974)  \n",
       "9                   Dead Poets Society (1989)  \n",
       "10                      Cool Hand Luke (1967)  \n",
       "11             When Harry Met Sally... (1989)  \n",
       "12                               Fargo (1996)  \n",
       "13     Monty Python and the Holy Grail (1974)  \n",
       "14  Butch Cassidy and the Sundance Kid (1969)  \n",
       "15               2001: A Space Odyssey (1968)  \n",
       "16              Much Ado About Nothing (1993)  \n",
       "17                        Forrest Gump (1994)  \n",
       "18         Four Weddings and a Funeral (1994)  \n",
       "19               Sense and Sensibility (1995)  \n",
       "20                Fish Called Wanda, A (1988)  \n",
       "21                          Annie Hall (1977)  \n",
       "22                    Deer Hunter, The (1978)  \n",
       "23                  Dances with Wolves (1990)  \n",
       "24                 Princess Bride, The (1987)  \n",
       "25                Fried Green Tomatoes (1991)  \n",
       "26                     Field of Dreams (1989)  \n",
       "27                             Contact (1997)  \n",
       "28                       Groundhog Day (1993)  \n",
       "29                       Jerry Maguire (1996)  "
      ]
     },
     "execution_count": 11,
     "metadata": {},
     "output_type": "execute_result"
    }
   ],
   "source": [
    "Recommendation_userCF(212)"
   ]
  },
  {
   "cell_type": "markdown",
   "metadata": {
    "id": "agyokLTGLQb3"
   },
   "source": [
    "#### Evaluation with Mean Absolute Error (MAE)"
   ]
  },
  {
   "cell_type": "code",
   "execution_count": 12,
   "metadata": {
    "colab": {
     "base_uri": "https://localhost:8080/"
    },
    "id": "nYr8yHnBLQb3",
    "outputId": "a67480fe-62f4-4418-c613-a91d6300a676"
   },
   "outputs": [
    {
     "name": "stdout",
     "output_type": "stream",
     "text": [
      "evaluation the model on 10000 test data ...\n",
      "\n",
      "MAE : 0.7505910931068639\n"
     ]
    },
    {
     "data": {
      "text/plain": [
       "0.7505910931068639"
      ]
     },
     "execution_count": 12,
     "metadata": {},
     "output_type": "execute_result"
    }
   ],
   "source": [
    "\n",
    "from recsys.preprocessing import train_test_split, get_examples\n",
    "\n",
    "\n",
    "raw_examples, raw_labels = get_examples(ratings, labels_column='rating')\n",
    "\n",
    "# training testing split\n",
    "(x_training, x_testing), (y_train, y_test) = train_test_split(examples=raw_examples, labels=raw_labels)\n",
    "\n",
    "def evaluation(x_testing, y_test):\n",
    "    print('evaluation the model on {} test data ...'.format(x_testing.shape[0]))\n",
    "    preds = list(predict(u,i) for (u,i) in x_testing)\n",
    "    mae = np.sum(np.absolute(y_test - np.array(preds))) / x_testing.shape[0]\n",
    "    print('\\nMAE :', mae)\n",
    "    return mae\n",
    "\n",
    "evaluation(x_testing, y_test)"
   ]
  },
  {
   "cell_type": "code",
   "execution_count": 13,
   "metadata": {
    "colab": {
     "base_uri": "https://localhost:8080/"
    },
    "id": "8PtTGv-8LQb3",
    "outputId": "a0f41708-8119-42fd-de4d-c345ac0854f5"
   },
   "outputs": [
    {
     "name": "stdout",
     "output_type": "stream",
     "text": [
      "Normalize users ratings ...\n",
      "Initialize the similarity model ...\n",
      "Compute nearest neighbors ...\n",
      "User to user recommendation model created with success ...\n",
      "Evaluate the model on 10000 test data ...\n",
      "\n",
      "MAE : 0.7505910931068639\n"
     ]
    },
    {
     "data": {
      "text/plain": [
       "0.7505910931068639"
      ]
     },
     "execution_count": 13,
     "metadata": {},
     "output_type": "execute_result"
    }
   ],
   "source": [
    "\n",
    "from recsys.memories.UserToUser import UserToUser\n",
    "\n",
    "# loading ml100k ratings\n",
    "ratings, movies = ml100k.load()\n",
    "\n",
    "# preparing dataset\n",
    "ratings, uencoder, iencoder = ids_encoder(ratings)\n",
    "\n",
    "\n",
    "raw_examples, raw_labels = get_examples(ratings, labels_column='rating')\n",
    "\n",
    "# training testing split\n",
    "(x_training, x_testing), (y_train, y_test) = train_test_split(examples=raw_examples, labels=raw_labels)\n",
    "\n",
    "# user-based CF\n",
    "usertouser = UserToUser(ratings, movies, metric='cosine')\n",
    "\n",
    "# evaluating ser-based CF on the ml100k testing data\n",
    "usertouser.evaluate(x_testing, y_test)"
   ]
  },
  {
   "cell_type": "code",
   "execution_count": 14,
   "metadata": {
    "colab": {
     "base_uri": "https://localhost:8080/"
    },
    "id": "c3ckm-1GLQb3",
    "outputId": "f0d2ae4b-5df3-42bd-d82a-8d0102d45dbf"
   },
   "outputs": [
    {
     "name": "stdout",
     "output_type": "stream",
     "text": [
      "Normalize users ratings ...\n",
      "Initialize the similarity model ...\n",
      "Compute nearest neighbors ...\n",
      "User to user recommendation model created with success ...\n",
      "==========================\n",
      "Evaluate the model on 100021 test data ...\n",
      "\n",
      "MAE : 0.732267005840993\n"
     ]
    },
    {
     "data": {
      "text/plain": [
       "0.732267005840993"
      ]
     },
     "execution_count": 14,
     "metadata": {},
     "output_type": "execute_result"
    }
   ],
   "source": [
    "from recsys.datasets import ml1m\n",
    "from recsys.preprocessing import ids_encoder, get_examples, train_test_split\n",
    "from recsys.memories.UserToUser import UserToUser\n",
    "\n",
    "# loading ml100k ratings\n",
    "ratings, movies = ml1m.load()\n",
    "\n",
    "# preparing dataset\n",
    "ratings, uencoder, iencoder = ids_encoder(ratings)\n",
    "\n",
    "\n",
    "raw_examples, raw_labels = get_examples(ratings, labels_column='rating')\n",
    "\n",
    "# training testing split\n",
    "(x_training, x_testing), (y_train, y_test) = train_test_split(examples=raw_examples, labels=raw_labels)\n",
    "\n",
    "# create the user-based CF\n",
    "usertouser = UserToUser(ratings, movies, k=20, metric='cosine')\n",
    "\n",
    "# evaluation the user-based CF on the ml1m test data\n",
    "print(\"==========================\")\n",
    "usertouser.evaluate(x_testing, y_test)"
   ]
  }
 ],
 "metadata": {
  "colab": {
   "provenance": []
  },
  "kernelspec": {
   "display_name": "Python 3 (ipykernel)",
   "language": "python",
   "name": "python3"
  },
  "language_info": {
   "codemirror_mode": {
    "name": "ipython",
    "version": 3
   },
   "file_extension": ".py",
   "mimetype": "text/x-python",
   "name": "python",
   "nbconvert_exporter": "python",
   "pygments_lexer": "ipython3",
   "version": "3.9.7"
  }
 },
 "nbformat": 4,
 "nbformat_minor": 1
}
