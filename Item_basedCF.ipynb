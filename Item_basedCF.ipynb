{
 "cells": [
  {
   "cell_type": "markdown",
   "metadata": {
    "id": "61rksJEFX-Im"
   },
   "source": [
    "**ITEM** BASED COLLABORATIVE FILTERING \n",
    "Google colab https://colab.research.google.com/drive/1ZBEn06A74zOyfakIppsHCpQ6UEoYzUR3?usp=sharing\n"
   ]
  },
  {
   "cell_type": "code",
   "execution_count": 1,
   "metadata": {
    "id": "CnYYYBWAwSeM"
   },
   "outputs": [],
   "source": [
    "import os\n",
    "\n",
    "if not (os.path.exists(\"recsys.zip\") or os.path.exists(\"recsys\")):\n",
    "    !wget https://github.com/nzhinusoftcm/review-on-collaborative-filtering/raw/master/recsys.zip     \n",
    "    !unzip recsys.zip\n"
   ]
  },
  {
   "cell_type": "markdown",
   "metadata": {
    "id": "HoVpY8XlwSeN"
   },
   "source": [
    "### Import requirements"
   ]
  },
  {
   "cell_type": "code",
   "execution_count": 2,
   "metadata": {
    "id": "-qxCaOBCwSeN"
   },
   "outputs": [
    {
     "name": "stderr",
     "output_type": "stream",
     "text": [
      "/Users/vijaykumawat/opt/anaconda3/lib/python3.9/site-packages/scipy/__init__.py:146: UserWarning: A NumPy version >=1.16.5 and <1.23.0 is required for this version of SciPy (detected version 1.23.4\n",
      "  warnings.warn(f\"A NumPy version >={np_minversion} and <{np_maxversion}\"\n"
     ]
    }
   ],
   "source": [
    "from sklearn.neighbors import NearestNeighbors\n",
    "from scipy.sparse import csr_matrix\n",
    "\n",
    "from recsys.datasets import ml1m, ml100k\n",
    "from recsys.preprocessing import ids_encoder\n",
    "\n",
    "import pandas as pd\n",
    "import numpy as np\n",
    "import os\n",
    "import sys"
   ]
  },
  {
   "cell_type": "markdown",
   "metadata": {
    "id": "7zaFUaKNwSeN"
   },
   "source": [
    "### Load ratings"
   ]
  },
  {
   "cell_type": "code",
   "execution_count": 3,
   "metadata": {
    "id": "qofoVRWDwSeN"
   },
   "outputs": [
    {
     "name": "stdout",
     "output_type": "stream",
     "text": [
      "Download data 100.2%\n",
      "Successfully downloaded ml-100k.zip 4924029 bytes.\n",
      "Unzipping the ml-100k.zip zip file ...\n"
     ]
    }
   ],
   "source": [
    "ratings, movies = ml100k.load()"
   ]
  },
  {
   "cell_type": "markdown",
   "metadata": {
    "id": "4fLaY3CPwSeN"
   },
   "source": [
    "### userids and itemids encoding"
   ]
  },
  {
   "cell_type": "code",
   "execution_count": 4,
   "metadata": {
    "id": "ZeNtiULpwSeN"
   },
   "outputs": [],
   "source": [
    "# creation of  the encoder\n",
    "ratings, uencoder, iencoder = ids_encoder(ratings)"
   ]
  },
  {
   "cell_type": "code",
   "execution_count": 5,
   "metadata": {
    "id": "CCKtodGpwSeO"
   },
   "outputs": [],
   "source": [
    "def normalize():\n",
    "    # each user mean rating computation\n",
    "    mean = ratings.groupby(by='userid', as_index=False)['rating'].mean()\n",
    "    normalized_ratings = pd.merge(ratings, mean, suffixes=('','_mean'), on='userid')\n",
    "    \n",
    "    #  each rating normalization by substracting the mean rating of the particular user\n",
    "    normalized_ratings['norm_rating'] = normalized_ratings['rating'] - normalized_ratings['rating_mean']\n",
    "    return mean.to_numpy()[:, 1], normalized_ratings"
   ]
  },
  {
   "cell_type": "code",
   "execution_count": 6,
   "metadata": {
    "colab": {
     "base_uri": "https://localhost:8080/",
     "height": 206
    },
    "id": "tKqOkAu9wSeO",
    "outputId": "f4ffad61-bbc0-4159-b2da-02aca1484c23"
   },
   "outputs": [
    {
     "data": {
      "text/html": [
       "<div>\n",
       "<style scoped>\n",
       "    .dataframe tbody tr th:only-of-type {\n",
       "        vertical-align: middle;\n",
       "    }\n",
       "\n",
       "    .dataframe tbody tr th {\n",
       "        vertical-align: top;\n",
       "    }\n",
       "\n",
       "    .dataframe thead th {\n",
       "        text-align: right;\n",
       "    }\n",
       "</style>\n",
       "<table border=\"1\" class=\"dataframe\">\n",
       "  <thead>\n",
       "    <tr style=\"text-align: right;\">\n",
       "      <th></th>\n",
       "      <th>userid</th>\n",
       "      <th>itemid</th>\n",
       "      <th>rating</th>\n",
       "      <th>rating_mean</th>\n",
       "      <th>norm_rating</th>\n",
       "    </tr>\n",
       "  </thead>\n",
       "  <tbody>\n",
       "    <tr>\n",
       "      <th>0</th>\n",
       "      <td>0</td>\n",
       "      <td>0</td>\n",
       "      <td>5</td>\n",
       "      <td>3.610294</td>\n",
       "      <td>1.389706</td>\n",
       "    </tr>\n",
       "    <tr>\n",
       "      <th>1</th>\n",
       "      <td>0</td>\n",
       "      <td>1</td>\n",
       "      <td>3</td>\n",
       "      <td>3.610294</td>\n",
       "      <td>-0.610294</td>\n",
       "    </tr>\n",
       "    <tr>\n",
       "      <th>2</th>\n",
       "      <td>0</td>\n",
       "      <td>2</td>\n",
       "      <td>4</td>\n",
       "      <td>3.610294</td>\n",
       "      <td>0.389706</td>\n",
       "    </tr>\n",
       "    <tr>\n",
       "      <th>3</th>\n",
       "      <td>0</td>\n",
       "      <td>3</td>\n",
       "      <td>3</td>\n",
       "      <td>3.610294</td>\n",
       "      <td>-0.610294</td>\n",
       "    </tr>\n",
       "    <tr>\n",
       "      <th>4</th>\n",
       "      <td>0</td>\n",
       "      <td>4</td>\n",
       "      <td>3</td>\n",
       "      <td>3.610294</td>\n",
       "      <td>-0.610294</td>\n",
       "    </tr>\n",
       "  </tbody>\n",
       "</table>\n",
       "</div>"
      ],
      "text/plain": [
       "   userid  itemid  rating  rating_mean  norm_rating\n",
       "0       0       0       5     3.610294     1.389706\n",
       "1       0       1       3     3.610294    -0.610294\n",
       "2       0       2       4     3.610294     0.389706\n",
       "3       0       3       3     3.610294    -0.610294\n",
       "4       0       4       3     3.610294    -0.610294"
      ]
     },
     "execution_count": 6,
     "metadata": {},
     "output_type": "execute_result"
    }
   ],
   "source": [
    "mean, normalized_ratings = normalize()\n",
    "np_ratings = normalized_ratings.to_numpy()\n",
    "normalized_ratings.head()"
   ]
  },
  {
   "cell_type": "code",
   "execution_count": 7,
   "metadata": {
    "id": "K3LhlvBSwSeO"
   },
   "outputs": [],
   "source": [
    "def movie_matrix(ratings):    \n",
    "    return csr_matrix(\n",
    "        pd.crosstab(ratings.itemid, ratings.userid, ratings.norm_rating, aggfunc=sum).fillna(0).values\n",
    "    )"
   ]
  },
  {
   "cell_type": "code",
   "execution_count": 8,
   "metadata": {
    "colab": {
     "base_uri": "https://localhost:8080/"
    },
    "id": "w_djVpirwSeO",
    "outputId": "405a58de-5353-46f1-fa86-59f7ce9d4400"
   },
   "outputs": [
    {
     "name": "stdout",
     "output_type": "stream",
     "text": [
      "  (0, 0)\t1.3897058823529411\n",
      "  (0, 1)\t0.2903225806451615\n",
      "  (0, 4)\t1.125714285714286\n",
      "  (0, 5)\t0.3649289099526065\n",
      "  (0, 9)\t-0.2065217391304346\n",
      "  (0, 12)\t-0.09748427672955984\n",
      "  (0, 14)\t-1.875\n",
      "  (0, 15)\t0.6714285714285717\n",
      "  (0, 16)\t0.9642857142857144\n",
      "  (0, 17)\t1.1191335740072201\n",
      "  (0, 19)\t-0.10416666666666652\n",
      "  (0, 20)\t2.329608938547486\n",
      "  (0, 22)\t1.3642384105960264\n",
      "  (0, 24)\t0.9487179487179489\n",
      "  (0, 25)\t0.05607476635513997\n",
      "  (0, 37)\t1.28099173553719\n",
      "  (0, 40)\t0.23076923076923084\n",
      "  (0, 41)\t1.2732240437158469\n",
      "  (0, 42)\t1.2895927601809953\n",
      "  (0, 43)\t0.3509933774834435\n",
      "  (0, 44)\t1.3958333333333335\n",
      "  (0, 48)\t-0.6837209302325582\n",
      "  (0, 53)\t0.3076923076923075\n",
      "  (0, 55)\t0.35828877005347604\n",
      "  (0, 56)\t1.5\n",
      "  :\t:\n",
      "  (1661, 781)\t1.2112068965517242\n",
      "  (1662, 781)\t-0.7887931034482758\n",
      "  (1663, 781)\t1.2112068965517242\n",
      "  (1663, 838)\t-2.192982456140351\n",
      "  (1663, 869)\t0.5464684014869889\n",
      "  (1663, 879)\t0.5733695652173911\n",
      "  (1664, 781)\t-0.7887931034482758\n",
      "  (1665, 781)\t-0.7887931034482758\n",
      "  (1666, 781)\t0.2112068965517242\n",
      "  (1667, 781)\t0.2112068965517242\n",
      "  (1668, 781)\t-0.7887931034482758\n",
      "  (1669, 781)\t0.2112068965517242\n",
      "  (1670, 786)\t-2.1403508771929824\n",
      "  (1671, 827)\t-1.1153846153846154\n",
      "  (1671, 895)\t-0.9806629834254146\n",
      "  (1672, 834)\t-1.1470588235294121\n",
      "  (1673, 839)\t-0.13705583756345163\n",
      "  (1674, 850)\t-0.45933014354067003\n",
      "  (1675, 850)\t-1.45933014354067\n",
      "  (1676, 853)\t-0.2119815668202767\n",
      "  (1677, 862)\t-2.121495327102804\n",
      "  (1678, 862)\t-0.12149532710280386\n",
      "  (1679, 862)\t-1.1214953271028039\n",
      "  (1680, 895)\t0.01933701657458542\n",
      "  (1681, 915)\t-0.3659305993690851\n"
     ]
    }
   ],
   "source": [
    "R = movie_matrix(normalized_ratings)\n",
    "print(R)"
   ]
  },
  {
   "cell_type": "code",
   "execution_count": 9,
   "metadata": {
    "id": "RA0wljxuwSeO"
   },
   "outputs": [],
   "source": [
    "def itemCF_model(rating_matrix, k=20, metric=\"cosine\"):\n",
    "    \"\"\"\n",
    "    :param R : numpy array of item representations\n",
    "    :param k : number of nearest neighbors to return    \n",
    "    :return model : our knn model\n",
    "    \"\"\"    \n",
    "    model = NearestNeighbors(metric=metric, n_neighbors=k+1, algorithm='brute')\n",
    "    model.fit(rating_matrix)    \n",
    "    return model"
   ]
  },
  {
   "cell_type": "code",
   "execution_count": 10,
   "metadata": {
    "id": "4lo1cDH-wSeP"
   },
   "outputs": [],
   "source": [
    "def NN(rating_matrix, model):\n",
    "    \"\"\"\n",
    "    compute the top n similar items for each item.    \n",
    "    :param rating_matrix : items representations\n",
    "    :param model : nearest neighbors model    \n",
    "    :return similarities, neighbors\n",
    "    \"\"\"    \n",
    "    similarities, neighbors = model.kneighbors(rating_matrix)    \n",
    "    return similarities[:,1:], neighbors[:,1:]"
   ]
  },
  {
   "cell_type": "code",
   "execution_count": 11,
   "metadata": {
    "id": "VBDRPnh-wSeP"
   },
   "outputs": [],
   "source": [
    "def similarities_file(similarities, neighbors, dataset_name):    \n",
    "    base_dir = 'recsys/weights/item2item'\n",
    "    save_dir = os.path.join(base_dir, dataset_name)\n",
    "    os.makedirs(save_dir, exist_ok=True)    \n",
    "    similarities_file_name = os.path.join(save_dir, 'similarities.npy')\n",
    "    neighbors_file_name = os.path.join(save_dir, 'neighbors.npy')    \n",
    "    try:\n",
    "        np.save(similarities_file_name, similarities)\n",
    "        np.save(neighbors_file_name, neighbors)        \n",
    "    except ValueError as error:\n",
    "        print(f\"An error occured when saving similarities, due to : \\n ValueError : {error}\")\n",
    "\n",
    "        \n",
    "def loading_similarity(dataset_name, k=20):\n",
    "    base_dir = 'recsys/weights/item2item'\n",
    "    save_dir = os.path.join(base_dir, dataset_name)    \n",
    "    similiraties_file = os.path.join(save_dir, 'similarities.npy')\n",
    "    neighbors_file = os.path.join(save_dir, 'neighbors.npy')    \n",
    "    similarities = np.load(similiraties_file)\n",
    "    neighbors = np.load(neighbors_file)    \n",
    "    return similarities[:,:k], neighbors[:,:k]\n",
    "\n",
    "\n",
    "def cosine(x, y):\n",
    "    return np.dot(x, y) / (np.linalg.norm(x) * np.linalg.norm(y))\n",
    "\n",
    "\n",
    "def adjusted_cosine(np_ratings, nb_items, dataset_name):\n",
    "    similarities = np.zeros(shape=(nb_items, nb_items))\n",
    "    similarities.fill(-1)\n",
    "    \n",
    "    def _progress(count):\n",
    "        sys.stdout.write('\\rComputing similarities. Progress status : %.1f%%' % (float(count / nb_items)*100.0))\n",
    "        sys.stdout.flush()\n",
    "        \n",
    "    items = sorted(ratings.itemid.unique())    \n",
    "    for i in items[:-1]:\n",
    "        for j in items[i+1:]:            \n",
    "            scores = np_ratings[(np_ratings[:, 1] == i) | (np_ratings[:, 1] == j), :]\n",
    "            vals, count = np.unique(scores[:,0], return_counts = True)\n",
    "            scores = scores[np.isin(scores[:,0], vals[count > 1]),:]\n",
    "\n",
    "            if scores.shape[0] > 2:\n",
    "                x = scores[scores[:, 1].astype('int') == i, 4]\n",
    "                y = scores[scores[:, 1].astype('int') == j, 4]\n",
    "                w = cosine(x, y)\n",
    "\n",
    "                similarities[i, j] = w\n",
    "                similarities[j, i] = w\n",
    "        _progress(i)\n",
    "    _progress(nb_items)\n",
    "    \n",
    "    # Sorting neighbors based on their similarities in decreasing order\n",
    "\n",
    "    neighbors = np.flip(np.argsort(similarities), axis=1)\n",
    "    \n",
    "    # Sorting Similarities \n",
    "    similarities = np.flip(np.sort(similarities), axis=1)\n",
    "    \n",
    "    # saving similarties\n",
    "    similarities_file(similarities, neighbors, dataset_name=dataset_name) \n",
    "    \n",
    "    return similarities, neighbors"
   ]
  },
  {
   "cell_type": "code",
   "execution_count": 12,
   "metadata": {
    "id": "5uyu6IkewSeP"
   },
   "outputs": [],
   "source": [
    "# metric : adjusted cosine metric is chosen\n",
    "\n",
    "metric = 'adjusted_cosine'\n",
    "\n",
    "if metric == 'adjusted_cosine':\n",
    "    similarities, neighbors = loading_similarity('ml100k')\n",
    "else:\n",
    "    model = itemCF_model(R, k=21, metric=metric)\n",
    "    similarities, neighbors = NN(R, model)"
   ]
  },
  {
   "cell_type": "code",
   "execution_count": 13,
   "metadata": {
    "id": "DZCTelPmwSeP"
   },
   "outputs": [],
   "source": [
    "def candidate_movies(userid):\n",
    "    \"\"\"\n",
    "    :param userid : user id for which we wish to find candidate items    \n",
    "    :return : I_u, candidates\n",
    "    \"\"\"\n",
    "    \n",
    "    # 1. Already rated item set I_u by the user \n",
    "    I_u = np_ratings[np_ratings[:, 0] == userid]\n",
    "    I_u = I_u[:, 1].astype('int')\n",
    "    \n",
    "    # 2. The set of candidate items is formed by unioning similar items in I_u\n",
    "    c = set()\n",
    "        \n",
    "    for iid in I_u:    \n",
    "        # In the candidate set, add items neighboring item iid\n",
    "        c.update(neighbors[iid])\n",
    "        \n",
    "    c = list(c)\n",
    "    # 3. excluding from the set C all items in I_u.\n",
    "    candidates = np.setdiff1d(c, I_u, assume_unique=True)\n",
    "    \n",
    "    return I_u, candidates"
   ]
  },
  {
   "cell_type": "code",
   "execution_count": 14,
   "metadata": {
    "id": "fvSgW37ywSeQ"
   },
   "outputs": [],
   "source": [
    "test_user = uencoder.transform([1])[0]\n",
    "i_u, u_candidates = candidate_movies(test_user)"
   ]
  },
  {
   "cell_type": "code",
   "execution_count": 15,
   "metadata": {
    "colab": {
     "base_uri": "https://localhost:8080/"
    },
    "id": "olLThOHQwSeQ",
    "outputId": "64d51d3e-8c56-45d0-d24c-ec5b3b83da1b"
   },
   "outputs": [
    {
     "name": "stdout",
     "output_type": "stream",
     "text": [
      "number of items purchased by user 1 :  272\n",
      "number of candidate items for user 1 :  893\n"
     ]
    }
   ],
   "source": [
    "print('number of items purchased by user 1 : ', len(i_u))\n",
    "print('number of candidate items for user 1 : ', len(u_candidates))"
   ]
  },
  {
   "cell_type": "code",
   "execution_count": 16,
   "metadata": {
    "id": "zD1f9x9_wSeQ"
   },
   "outputs": [],
   "source": [
    "def similarity_Iu(c, I_u):\n",
    "    \"\"\"\n",
    "    compute similarity between an item c and a set of items I_u. For each item i in I_u, get similarity between \n",
    "    i and c, if c exists in the set of items similar to itemid.    \n",
    "    :param c : itemid of a candidate item\n",
    "    :param I_u : set of items already purchased by a given user    \n",
    "    :return w : similarity between c and I_u\n",
    "    \"\"\"\n",
    "    w = 0    \n",
    "    for iid in I_u :        \n",
    "        # Find the similarity between c and itemid\n",
    "        if c in neighbors[iid] :\n",
    "            w = w + similarities[iid, neighbors[iid] == c][0]    \n",
    "    return w"
   ]
  },
  {
   "cell_type": "code",
   "execution_count": 17,
   "metadata": {
    "id": "JTVbNs9iwSeQ"
   },
   "outputs": [],
   "source": [
    "def candidateRanking(candidates, I_u):\n",
    "    \"\"\"\n",
    "    rank candidate items according to their similarities with i_u    \n",
    "    :param candidates : list of candidate items\n",
    "    :param I_u : list of items purchased by the user    \n",
    "    :return ranked_candidates : dataframe of candidate items, ranked in descending order of similarities with I_u\n",
    "    \"\"\"\n",
    "    \n",
    "    # Mapping candidate items to their Iu and corresponding similarities \n",
    "    sims = [similarity_Iu(c, I_u) for c in candidates]\n",
    "    candidates = iencoder.inverse_transform(candidates)    \n",
    "    mapping = list(zip(candidates, sims))\n",
    "    \n",
    "    ranked_candidates = sorted(mapping, key=lambda couple:couple[1], reverse=True)    \n",
    "    return ranked_candidates"
   ]
  },
  {
   "cell_type": "code",
   "execution_count": 18,
   "metadata": {
    "id": "9iqPsLovwSeQ"
   },
   "outputs": [],
   "source": [
    "def topRecommendation(userid, N=40):\n",
    "    \"\"\"\n",
    "    Produce top-N recommendation for a given user    \n",
    "    :param userid : user for which we produce top-N recommendation\n",
    "    :param n : length of the top-N recommendation list    \n",
    "    :return topn\n",
    "    \"\"\"\n",
    "    # finding  candidate_movies\n",
    "    I_u, candidates = candidate_movies(userid)\n",
    "    \n",
    "    # ranking candidate_movies \n",
    "    ranked_candidates = candidateRanking(candidates, I_u)\n",
    "    \n",
    "    # Top N row of ranked_candidates\n",
    "    topn = pd.DataFrame(ranked_candidates[:N], columns=['itemid','similarity_Iu'])    \n",
    "    topn = pd.merge(topn, movies, on='itemid', how='inner')    \n",
    "    return topn"
   ]
  },
  {
   "cell_type": "code",
   "execution_count": 19,
   "metadata": {
    "colab": {
     "base_uri": "https://localhost:8080/",
     "height": 1000
    },
    "id": "L4X497m0wSeQ",
    "outputId": "8a808bbb-0582-4457-bd42-5f29e26809c8"
   },
   "outputs": [
    {
     "data": {
      "text/html": [
       "<div>\n",
       "<style scoped>\n",
       "    .dataframe tbody tr th:only-of-type {\n",
       "        vertical-align: middle;\n",
       "    }\n",
       "\n",
       "    .dataframe tbody tr th {\n",
       "        vertical-align: top;\n",
       "    }\n",
       "\n",
       "    .dataframe thead th {\n",
       "        text-align: right;\n",
       "    }\n",
       "</style>\n",
       "<table border=\"1\" class=\"dataframe\">\n",
       "  <thead>\n",
       "    <tr style=\"text-align: right;\">\n",
       "      <th></th>\n",
       "      <th>itemid</th>\n",
       "      <th>similarity_Iu</th>\n",
       "      <th>title</th>\n",
       "    </tr>\n",
       "  </thead>\n",
       "  <tbody>\n",
       "    <tr>\n",
       "      <th>0</th>\n",
       "      <td>1356</td>\n",
       "      <td>52.867173</td>\n",
       "      <td>Ed's Next Move (1996)</td>\n",
       "    </tr>\n",
       "    <tr>\n",
       "      <th>1</th>\n",
       "      <td>1189</td>\n",
       "      <td>50.362199</td>\n",
       "      <td>Prefontaine (1997)</td>\n",
       "    </tr>\n",
       "    <tr>\n",
       "      <th>2</th>\n",
       "      <td>1516</td>\n",
       "      <td>31.133267</td>\n",
       "      <td>Wedding Gift, The (1994)</td>\n",
       "    </tr>\n",
       "    <tr>\n",
       "      <th>3</th>\n",
       "      <td>1550</td>\n",
       "      <td>31.031738</td>\n",
       "      <td>Destiny Turns on the Radio (1995)</td>\n",
       "    </tr>\n",
       "    <tr>\n",
       "      <th>4</th>\n",
       "      <td>1554</td>\n",
       "      <td>27.364494</td>\n",
       "      <td>Safe Passage (1994)</td>\n",
       "    </tr>\n",
       "    <tr>\n",
       "      <th>5</th>\n",
       "      <td>1600</td>\n",
       "      <td>27.287712</td>\n",
       "      <td>Guantanamera (1994)</td>\n",
       "    </tr>\n",
       "    <tr>\n",
       "      <th>6</th>\n",
       "      <td>1223</td>\n",
       "      <td>26.631850</td>\n",
       "      <td>King of the Hill (1993)</td>\n",
       "    </tr>\n",
       "    <tr>\n",
       "      <th>7</th>\n",
       "      <td>1388</td>\n",
       "      <td>26.624397</td>\n",
       "      <td>Gabbeh (1996)</td>\n",
       "    </tr>\n",
       "    <tr>\n",
       "      <th>8</th>\n",
       "      <td>766</td>\n",
       "      <td>26.590175</td>\n",
       "      <td>Man of the Year (1995)</td>\n",
       "    </tr>\n",
       "    <tr>\n",
       "      <th>9</th>\n",
       "      <td>691</td>\n",
       "      <td>26.461802</td>\n",
       "      <td>Dark City (1998)</td>\n",
       "    </tr>\n",
       "    <tr>\n",
       "      <th>10</th>\n",
       "      <td>1378</td>\n",
       "      <td>25.787842</td>\n",
       "      <td>Rhyme &amp; Reason (1997)</td>\n",
       "    </tr>\n",
       "    <tr>\n",
       "      <th>11</th>\n",
       "      <td>1664</td>\n",
       "      <td>25.327445</td>\n",
       "      <td>8 Heads in a Duffel Bag (1997)</td>\n",
       "    </tr>\n",
       "    <tr>\n",
       "      <th>12</th>\n",
       "      <td>1261</td>\n",
       "      <td>24.785660</td>\n",
       "      <td>Run of the Country, The (1995)</td>\n",
       "    </tr>\n",
       "    <tr>\n",
       "      <th>13</th>\n",
       "      <td>1123</td>\n",
       "      <td>24.524028</td>\n",
       "      <td>Last Time I Saw Paris, The (1954)</td>\n",
       "    </tr>\n",
       "    <tr>\n",
       "      <th>14</th>\n",
       "      <td>1538</td>\n",
       "      <td>24.492453</td>\n",
       "      <td>All Over Me (1997)</td>\n",
       "    </tr>\n",
       "    <tr>\n",
       "      <th>15</th>\n",
       "      <td>1485</td>\n",
       "      <td>24.345312</td>\n",
       "      <td>Colonel Chabert, Le (1994)</td>\n",
       "    </tr>\n",
       "    <tr>\n",
       "      <th>16</th>\n",
       "      <td>1450</td>\n",
       "      <td>24.262120</td>\n",
       "      <td>Golden Earrings (1947)</td>\n",
       "    </tr>\n",
       "    <tr>\n",
       "      <th>17</th>\n",
       "      <td>909</td>\n",
       "      <td>23.357301</td>\n",
       "      <td>Dangerous Beauty (1998)</td>\n",
       "    </tr>\n",
       "    <tr>\n",
       "      <th>18</th>\n",
       "      <td>359</td>\n",
       "      <td>22.973658</td>\n",
       "      <td>Assignment, The (1997)</td>\n",
       "    </tr>\n",
       "    <tr>\n",
       "      <th>19</th>\n",
       "      <td>1369</td>\n",
       "      <td>22.710078</td>\n",
       "      <td>Forbidden Christ, The (Cristo proibito, Il) (1...</td>\n",
       "    </tr>\n",
       "    <tr>\n",
       "      <th>20</th>\n",
       "      <td>1506</td>\n",
       "      <td>22.325504</td>\n",
       "      <td>Nelly &amp; Monsieur Arnaud (1995)</td>\n",
       "    </tr>\n",
       "    <tr>\n",
       "      <th>21</th>\n",
       "      <td>1537</td>\n",
       "      <td>22.061914</td>\n",
       "      <td>Cosi (1996)</td>\n",
       "    </tr>\n",
       "    <tr>\n",
       "      <th>22</th>\n",
       "      <td>1474</td>\n",
       "      <td>21.877034</td>\n",
       "      <td>Nina Takes a Lover (1994)</td>\n",
       "    </tr>\n",
       "    <tr>\n",
       "      <th>23</th>\n",
       "      <td>1467</td>\n",
       "      <td>21.861203</td>\n",
       "      <td>Saint of Fort Washington, The (1993)</td>\n",
       "    </tr>\n",
       "    <tr>\n",
       "      <th>24</th>\n",
       "      <td>1255</td>\n",
       "      <td>21.750924</td>\n",
       "      <td>Broken English (1996)</td>\n",
       "    </tr>\n",
       "    <tr>\n",
       "      <th>25</th>\n",
       "      <td>1499</td>\n",
       "      <td>21.529748</td>\n",
       "      <td>Grosse Fatigue (1994)</td>\n",
       "    </tr>\n",
       "    <tr>\n",
       "      <th>26</th>\n",
       "      <td>1466</td>\n",
       "      <td>21.063269</td>\n",
       "      <td>Margaret's Museum (1995)</td>\n",
       "    </tr>\n",
       "    <tr>\n",
       "      <th>27</th>\n",
       "      <td>1448</td>\n",
       "      <td>20.846909</td>\n",
       "      <td>My Favorite Season (1993)</td>\n",
       "    </tr>\n",
       "    <tr>\n",
       "      <th>28</th>\n",
       "      <td>927</td>\n",
       "      <td>20.730153</td>\n",
       "      <td>Flower of My Secret, The (Flor de mi secreto, ...</td>\n",
       "    </tr>\n",
       "    <tr>\n",
       "      <th>29</th>\n",
       "      <td>1375</td>\n",
       "      <td>20.627152</td>\n",
       "      <td>Cement Garden, The (1993)</td>\n",
       "    </tr>\n",
       "    <tr>\n",
       "      <th>30</th>\n",
       "      <td>851</td>\n",
       "      <td>20.502889</td>\n",
       "      <td>Two or Three Things I Know About Her (1966)</td>\n",
       "    </tr>\n",
       "    <tr>\n",
       "      <th>31</th>\n",
       "      <td>1455</td>\n",
       "      <td>20.497598</td>\n",
       "      <td>Outlaw, The (1943)</td>\n",
       "    </tr>\n",
       "    <tr>\n",
       "      <th>32</th>\n",
       "      <td>1158</td>\n",
       "      <td>20.458337</td>\n",
       "      <td>Fille seule, La (A Single Girl) (1995)</td>\n",
       "    </tr>\n",
       "    <tr>\n",
       "      <th>33</th>\n",
       "      <td>1501</td>\n",
       "      <td>20.057252</td>\n",
       "      <td>Prisoner of the Mountains (Kavkazsky Plennik) ...</td>\n",
       "    </tr>\n",
       "    <tr>\n",
       "      <th>34</th>\n",
       "      <td>1524</td>\n",
       "      <td>20.035111</td>\n",
       "      <td>Kaspar Hauser (1993)</td>\n",
       "    </tr>\n",
       "    <tr>\n",
       "      <th>35</th>\n",
       "      <td>1351</td>\n",
       "      <td>19.975565</td>\n",
       "      <td>Lover's Knot (1996)</td>\n",
       "    </tr>\n",
       "    <tr>\n",
       "      <th>36</th>\n",
       "      <td>992</td>\n",
       "      <td>19.770985</td>\n",
       "      <td>Head Above Water (1996)</td>\n",
       "    </tr>\n",
       "    <tr>\n",
       "      <th>37</th>\n",
       "      <td>1301</td>\n",
       "      <td>19.738174</td>\n",
       "      <td>Stripes (1981)</td>\n",
       "    </tr>\n",
       "    <tr>\n",
       "      <th>38</th>\n",
       "      <td>1629</td>\n",
       "      <td>19.572921</td>\n",
       "      <td>Nico Icon (1995)</td>\n",
       "    </tr>\n",
       "    <tr>\n",
       "      <th>39</th>\n",
       "      <td>817</td>\n",
       "      <td>19.377984</td>\n",
       "      <td>Frisk (1995)</td>\n",
       "    </tr>\n",
       "  </tbody>\n",
       "</table>\n",
       "</div>"
      ],
      "text/plain": [
       "    itemid  similarity_Iu                                              title\n",
       "0     1356      52.867173                              Ed's Next Move (1996)\n",
       "1     1189      50.362199                                 Prefontaine (1997)\n",
       "2     1516      31.133267                           Wedding Gift, The (1994)\n",
       "3     1550      31.031738                  Destiny Turns on the Radio (1995)\n",
       "4     1554      27.364494                                Safe Passage (1994)\n",
       "5     1600      27.287712                                Guantanamera (1994)\n",
       "6     1223      26.631850                            King of the Hill (1993)\n",
       "7     1388      26.624397                                      Gabbeh (1996)\n",
       "8      766      26.590175                             Man of the Year (1995)\n",
       "9      691      26.461802                                   Dark City (1998)\n",
       "10    1378      25.787842                              Rhyme & Reason (1997)\n",
       "11    1664      25.327445                     8 Heads in a Duffel Bag (1997)\n",
       "12    1261      24.785660                     Run of the Country, The (1995)\n",
       "13    1123      24.524028                  Last Time I Saw Paris, The (1954)\n",
       "14    1538      24.492453                                 All Over Me (1997)\n",
       "15    1485      24.345312                         Colonel Chabert, Le (1994)\n",
       "16    1450      24.262120                             Golden Earrings (1947)\n",
       "17     909      23.357301                            Dangerous Beauty (1998)\n",
       "18     359      22.973658                             Assignment, The (1997)\n",
       "19    1369      22.710078  Forbidden Christ, The (Cristo proibito, Il) (1...\n",
       "20    1506      22.325504                     Nelly & Monsieur Arnaud (1995)\n",
       "21    1537      22.061914                                        Cosi (1996)\n",
       "22    1474      21.877034                          Nina Takes a Lover (1994)\n",
       "23    1467      21.861203               Saint of Fort Washington, The (1993)\n",
       "24    1255      21.750924                              Broken English (1996)\n",
       "25    1499      21.529748                              Grosse Fatigue (1994)\n",
       "26    1466      21.063269                           Margaret's Museum (1995)\n",
       "27    1448      20.846909                          My Favorite Season (1993)\n",
       "28     927      20.730153  Flower of My Secret, The (Flor de mi secreto, ...\n",
       "29    1375      20.627152                          Cement Garden, The (1993)\n",
       "30     851      20.502889        Two or Three Things I Know About Her (1966)\n",
       "31    1455      20.497598                                 Outlaw, The (1943)\n",
       "32    1158      20.458337             Fille seule, La (A Single Girl) (1995)\n",
       "33    1501      20.057252  Prisoner of the Mountains (Kavkazsky Plennik) ...\n",
       "34    1524      20.035111                               Kaspar Hauser (1993)\n",
       "35    1351      19.975565                                Lover's Knot (1996)\n",
       "36     992      19.770985                            Head Above Water (1996)\n",
       "37    1301      19.738174                                     Stripes (1981)\n",
       "38    1629      19.572921                                   Nico Icon (1995)\n",
       "39     817      19.377984                                       Frisk (1995)"
      ]
     },
     "execution_count": 19,
     "metadata": {},
     "output_type": "execute_result"
    }
   ],
   "source": [
    "topRecommendation(test_user)"
   ]
  },
  {
   "cell_type": "code",
   "execution_count": 20,
   "metadata": {
    "id": "GApLWmPHwSeQ"
   },
   "outputs": [],
   "source": [
    "def predict(userid, itemid):\n",
    "    \"\"\"\n",
    "    Make rating prediction for user userid on item itemid    \n",
    "    :param userid : id of the active user\n",
    "    :param itemid : id of the item for which we are making prediction        \n",
    "    :return r_hat : predicted rating\n",
    "    \"\"\"\n",
    "    \n",
    "    #finding similar items with similarities\n",
    "    item_neighbors = neighbors[itemid]\n",
    "    item_similarities = similarities[itemid]\n",
    "    \n",
    "    # rating of user with userid\n",
    "    uratings = np_ratings[np_ratings[:, 0].astype('int') == userid]\n",
    "    \n",
    "   \n",
    "    # similar rated items \n",
    "    siru = uratings[np.isin(uratings[:, 1], item_neighbors)]\n",
    "    scores = siru[:, 2]\n",
    "    indexes = [np.where(item_neighbors == iid)[0][0] for iid in siru[:,1].astype('int')]    \n",
    "    sims = item_similarities[indexes]\n",
    "    \n",
    "    dot = np.dot(scores, sims)\n",
    "    som = np.sum(np.abs(sims))\n",
    "\n",
    "    if dot == 0 or som == 0:\n",
    "        return mean[userid]\n",
    "    \n",
    "    return dot / som"
   ]
  },
  {
   "cell_type": "code",
   "execution_count": 21,
   "metadata": {
    "id": "qlYdc60ywSeQ"
   },
   "outputs": [],
   "source": [
    "def topNPrediction(userid):\n",
    "\n",
    " \n",
    "    # top N recommendation for active user\n",
    "    topn = topRecommendation(userid)\n",
    "    \n",
    "    # top N  movie list\n",
    "    itemids = topn.itemid.to_list()\n",
    "    \n",
    "    predictions = []\n",
    "\n",
    "    # predicting for every movie in top list\n",
    "    for itemid in itemids:\n",
    "        r = predict(userid, itemid)\n",
    "        \n",
    "        predictions.append((itemid,r))\n",
    "    \n",
    "    predictions = pd.DataFrame(predictions, columns=['itemid','prediction'])\n",
    "    \n",
    "\n",
    "    # merging predicted results\n",
    "    topn_predict = pd.merge(topn, predictions, on='itemid', how='inner')\n",
    "    topn_predict = topn_predict.sort_values(by=['prediction'], ascending=False)\n",
    "    \n",
    "    return topn, topn_predict"
   ]
  },
  {
   "cell_type": "code",
   "execution_count": 22,
   "metadata": {
    "id": "LXxRmrEiwSeQ"
   },
   "outputs": [],
   "source": [
    "topn, topn_predict = topNPrediction(userid=test_user)"
   ]
  },
  {
   "cell_type": "code",
   "execution_count": 23,
   "metadata": {
    "colab": {
     "base_uri": "https://localhost:8080/",
     "height": 1000
    },
    "id": "XQJo6Kz5wSeR",
    "outputId": "a4408007-b3b3-484f-a7b9-c04150e2dd50"
   },
   "outputs": [
    {
     "data": {
      "text/html": [
       "<div>\n",
       "<style scoped>\n",
       "    .dataframe tbody tr th:only-of-type {\n",
       "        vertical-align: middle;\n",
       "    }\n",
       "\n",
       "    .dataframe tbody tr th {\n",
       "        vertical-align: top;\n",
       "    }\n",
       "\n",
       "    .dataframe thead th {\n",
       "        text-align: right;\n",
       "    }\n",
       "</style>\n",
       "<table border=\"1\" class=\"dataframe\">\n",
       "  <thead>\n",
       "    <tr style=\"text-align: right;\">\n",
       "      <th></th>\n",
       "      <th>itemid</th>\n",
       "      <th>similarity_Iu</th>\n",
       "      <th>title</th>\n",
       "      <th>prediction</th>\n",
       "    </tr>\n",
       "  </thead>\n",
       "  <tbody>\n",
       "    <tr>\n",
       "      <th>37</th>\n",
       "      <td>1301</td>\n",
       "      <td>19.738174</td>\n",
       "      <td>Stripes (1981)</td>\n",
       "      <td>5.000000</td>\n",
       "    </tr>\n",
       "    <tr>\n",
       "      <th>36</th>\n",
       "      <td>992</td>\n",
       "      <td>19.770985</td>\n",
       "      <td>Head Above Water (1996)</td>\n",
       "      <td>5.000000</td>\n",
       "    </tr>\n",
       "    <tr>\n",
       "      <th>7</th>\n",
       "      <td>1388</td>\n",
       "      <td>26.624397</td>\n",
       "      <td>Gabbeh (1996)</td>\n",
       "      <td>4.666667</td>\n",
       "    </tr>\n",
       "    <tr>\n",
       "      <th>18</th>\n",
       "      <td>359</td>\n",
       "      <td>22.973658</td>\n",
       "      <td>Assignment, The (1997)</td>\n",
       "      <td>4.600000</td>\n",
       "    </tr>\n",
       "    <tr>\n",
       "      <th>4</th>\n",
       "      <td>1554</td>\n",
       "      <td>27.364494</td>\n",
       "      <td>Safe Passage (1994)</td>\n",
       "      <td>4.500000</td>\n",
       "    </tr>\n",
       "    <tr>\n",
       "      <th>14</th>\n",
       "      <td>1538</td>\n",
       "      <td>24.492453</td>\n",
       "      <td>All Over Me (1997)</td>\n",
       "      <td>4.500000</td>\n",
       "    </tr>\n",
       "    <tr>\n",
       "      <th>27</th>\n",
       "      <td>1448</td>\n",
       "      <td>20.846909</td>\n",
       "      <td>My Favorite Season (1993)</td>\n",
       "      <td>4.490052</td>\n",
       "    </tr>\n",
       "    <tr>\n",
       "      <th>29</th>\n",
       "      <td>1375</td>\n",
       "      <td>20.627152</td>\n",
       "      <td>Cement Garden, The (1993)</td>\n",
       "      <td>4.333333</td>\n",
       "    </tr>\n",
       "    <tr>\n",
       "      <th>26</th>\n",
       "      <td>1466</td>\n",
       "      <td>21.063269</td>\n",
       "      <td>Margaret's Museum (1995)</td>\n",
       "      <td>4.271915</td>\n",
       "    </tr>\n",
       "    <tr>\n",
       "      <th>39</th>\n",
       "      <td>817</td>\n",
       "      <td>19.377984</td>\n",
       "      <td>Frisk (1995)</td>\n",
       "      <td>4.000000</td>\n",
       "    </tr>\n",
       "    <tr>\n",
       "      <th>31</th>\n",
       "      <td>1455</td>\n",
       "      <td>20.497598</td>\n",
       "      <td>Outlaw, The (1943)</td>\n",
       "      <td>4.000000</td>\n",
       "    </tr>\n",
       "    <tr>\n",
       "      <th>19</th>\n",
       "      <td>1369</td>\n",
       "      <td>22.710078</td>\n",
       "      <td>Forbidden Christ, The (Cristo proibito, Il) (1...</td>\n",
       "      <td>4.000000</td>\n",
       "    </tr>\n",
       "    <tr>\n",
       "      <th>21</th>\n",
       "      <td>1537</td>\n",
       "      <td>22.061914</td>\n",
       "      <td>Cosi (1996)</td>\n",
       "      <td>4.000000</td>\n",
       "    </tr>\n",
       "    <tr>\n",
       "      <th>23</th>\n",
       "      <td>1467</td>\n",
       "      <td>21.861203</td>\n",
       "      <td>Saint of Fort Washington, The (1993)</td>\n",
       "      <td>4.000000</td>\n",
       "    </tr>\n",
       "    <tr>\n",
       "      <th>10</th>\n",
       "      <td>1378</td>\n",
       "      <td>25.787842</td>\n",
       "      <td>Rhyme &amp; Reason (1997)</td>\n",
       "      <td>4.000000</td>\n",
       "    </tr>\n",
       "    <tr>\n",
       "      <th>2</th>\n",
       "      <td>1516</td>\n",
       "      <td>31.133267</td>\n",
       "      <td>Wedding Gift, The (1994)</td>\n",
       "      <td>4.000000</td>\n",
       "    </tr>\n",
       "    <tr>\n",
       "      <th>3</th>\n",
       "      <td>1550</td>\n",
       "      <td>31.031738</td>\n",
       "      <td>Destiny Turns on the Radio (1995)</td>\n",
       "      <td>3.777778</td>\n",
       "    </tr>\n",
       "    <tr>\n",
       "      <th>1</th>\n",
       "      <td>1189</td>\n",
       "      <td>50.362199</td>\n",
       "      <td>Prefontaine (1997)</td>\n",
       "      <td>3.666528</td>\n",
       "    </tr>\n",
       "    <tr>\n",
       "      <th>30</th>\n",
       "      <td>851</td>\n",
       "      <td>20.502889</td>\n",
       "      <td>Two or Three Things I Know About Her (1966)</td>\n",
       "      <td>3.610294</td>\n",
       "    </tr>\n",
       "    <tr>\n",
       "      <th>35</th>\n",
       "      <td>1351</td>\n",
       "      <td>19.975565</td>\n",
       "      <td>Lover's Knot (1996)</td>\n",
       "      <td>3.610294</td>\n",
       "    </tr>\n",
       "    <tr>\n",
       "      <th>38</th>\n",
       "      <td>1629</td>\n",
       "      <td>19.572921</td>\n",
       "      <td>Nico Icon (1995)</td>\n",
       "      <td>3.610294</td>\n",
       "    </tr>\n",
       "    <tr>\n",
       "      <th>34</th>\n",
       "      <td>1524</td>\n",
       "      <td>20.035111</td>\n",
       "      <td>Kaspar Hauser (1993)</td>\n",
       "      <td>3.610294</td>\n",
       "    </tr>\n",
       "    <tr>\n",
       "      <th>20</th>\n",
       "      <td>1506</td>\n",
       "      <td>22.325504</td>\n",
       "      <td>Nelly &amp; Monsieur Arnaud (1995)</td>\n",
       "      <td>3.610294</td>\n",
       "    </tr>\n",
       "    <tr>\n",
       "      <th>9</th>\n",
       "      <td>691</td>\n",
       "      <td>26.461802</td>\n",
       "      <td>Dark City (1998)</td>\n",
       "      <td>3.610294</td>\n",
       "    </tr>\n",
       "    <tr>\n",
       "      <th>5</th>\n",
       "      <td>1600</td>\n",
       "      <td>27.287712</td>\n",
       "      <td>Guantanamera (1994)</td>\n",
       "      <td>3.610294</td>\n",
       "    </tr>\n",
       "    <tr>\n",
       "      <th>6</th>\n",
       "      <td>1223</td>\n",
       "      <td>26.631850</td>\n",
       "      <td>King of the Hill (1993)</td>\n",
       "      <td>3.610294</td>\n",
       "    </tr>\n",
       "    <tr>\n",
       "      <th>15</th>\n",
       "      <td>1485</td>\n",
       "      <td>24.345312</td>\n",
       "      <td>Colonel Chabert, Le (1994)</td>\n",
       "      <td>3.610294</td>\n",
       "    </tr>\n",
       "    <tr>\n",
       "      <th>11</th>\n",
       "      <td>1664</td>\n",
       "      <td>25.327445</td>\n",
       "      <td>8 Heads in a Duffel Bag (1997)</td>\n",
       "      <td>3.610294</td>\n",
       "    </tr>\n",
       "    <tr>\n",
       "      <th>17</th>\n",
       "      <td>909</td>\n",
       "      <td>23.357301</td>\n",
       "      <td>Dangerous Beauty (1998)</td>\n",
       "      <td>3.500000</td>\n",
       "    </tr>\n",
       "    <tr>\n",
       "      <th>33</th>\n",
       "      <td>1501</td>\n",
       "      <td>20.057252</td>\n",
       "      <td>Prisoner of the Mountains (Kavkazsky Plennik) ...</td>\n",
       "      <td>3.401879</td>\n",
       "    </tr>\n",
       "    <tr>\n",
       "      <th>12</th>\n",
       "      <td>1261</td>\n",
       "      <td>24.785660</td>\n",
       "      <td>Run of the Country, The (1995)</td>\n",
       "      <td>3.333333</td>\n",
       "    </tr>\n",
       "    <tr>\n",
       "      <th>24</th>\n",
       "      <td>1255</td>\n",
       "      <td>21.750924</td>\n",
       "      <td>Broken English (1996)</td>\n",
       "      <td>3.265749</td>\n",
       "    </tr>\n",
       "    <tr>\n",
       "      <th>13</th>\n",
       "      <td>1123</td>\n",
       "      <td>24.524028</td>\n",
       "      <td>Last Time I Saw Paris, The (1954)</td>\n",
       "      <td>3.200000</td>\n",
       "    </tr>\n",
       "    <tr>\n",
       "      <th>16</th>\n",
       "      <td>1450</td>\n",
       "      <td>24.262120</td>\n",
       "      <td>Golden Earrings (1947)</td>\n",
       "      <td>3.142978</td>\n",
       "    </tr>\n",
       "    <tr>\n",
       "      <th>8</th>\n",
       "      <td>766</td>\n",
       "      <td>26.590175</td>\n",
       "      <td>Man of the Year (1995)</td>\n",
       "      <td>3.000000</td>\n",
       "    </tr>\n",
       "    <tr>\n",
       "      <th>22</th>\n",
       "      <td>1474</td>\n",
       "      <td>21.877034</td>\n",
       "      <td>Nina Takes a Lover (1994)</td>\n",
       "      <td>3.000000</td>\n",
       "    </tr>\n",
       "    <tr>\n",
       "      <th>0</th>\n",
       "      <td>1356</td>\n",
       "      <td>52.867173</td>\n",
       "      <td>Ed's Next Move (1996)</td>\n",
       "      <td>2.280926</td>\n",
       "    </tr>\n",
       "    <tr>\n",
       "      <th>32</th>\n",
       "      <td>1158</td>\n",
       "      <td>20.458337</td>\n",
       "      <td>Fille seule, La (A Single Girl) (1995)</td>\n",
       "      <td>2.000000</td>\n",
       "    </tr>\n",
       "    <tr>\n",
       "      <th>28</th>\n",
       "      <td>927</td>\n",
       "      <td>20.730153</td>\n",
       "      <td>Flower of My Secret, The (Flor de mi secreto, ...</td>\n",
       "      <td>1.665010</td>\n",
       "    </tr>\n",
       "    <tr>\n",
       "      <th>25</th>\n",
       "      <td>1499</td>\n",
       "      <td>21.529748</td>\n",
       "      <td>Grosse Fatigue (1994)</td>\n",
       "      <td>1.122032</td>\n",
       "    </tr>\n",
       "  </tbody>\n",
       "</table>\n",
       "</div>"
      ],
      "text/plain": [
       "    itemid  similarity_Iu                                              title  \\\n",
       "37    1301      19.738174                                     Stripes (1981)   \n",
       "36     992      19.770985                            Head Above Water (1996)   \n",
       "7     1388      26.624397                                      Gabbeh (1996)   \n",
       "18     359      22.973658                             Assignment, The (1997)   \n",
       "4     1554      27.364494                                Safe Passage (1994)   \n",
       "14    1538      24.492453                                 All Over Me (1997)   \n",
       "27    1448      20.846909                          My Favorite Season (1993)   \n",
       "29    1375      20.627152                          Cement Garden, The (1993)   \n",
       "26    1466      21.063269                           Margaret's Museum (1995)   \n",
       "39     817      19.377984                                       Frisk (1995)   \n",
       "31    1455      20.497598                                 Outlaw, The (1943)   \n",
       "19    1369      22.710078  Forbidden Christ, The (Cristo proibito, Il) (1...   \n",
       "21    1537      22.061914                                        Cosi (1996)   \n",
       "23    1467      21.861203               Saint of Fort Washington, The (1993)   \n",
       "10    1378      25.787842                              Rhyme & Reason (1997)   \n",
       "2     1516      31.133267                           Wedding Gift, The (1994)   \n",
       "3     1550      31.031738                  Destiny Turns on the Radio (1995)   \n",
       "1     1189      50.362199                                 Prefontaine (1997)   \n",
       "30     851      20.502889        Two or Three Things I Know About Her (1966)   \n",
       "35    1351      19.975565                                Lover's Knot (1996)   \n",
       "38    1629      19.572921                                   Nico Icon (1995)   \n",
       "34    1524      20.035111                               Kaspar Hauser (1993)   \n",
       "20    1506      22.325504                     Nelly & Monsieur Arnaud (1995)   \n",
       "9      691      26.461802                                   Dark City (1998)   \n",
       "5     1600      27.287712                                Guantanamera (1994)   \n",
       "6     1223      26.631850                            King of the Hill (1993)   \n",
       "15    1485      24.345312                         Colonel Chabert, Le (1994)   \n",
       "11    1664      25.327445                     8 Heads in a Duffel Bag (1997)   \n",
       "17     909      23.357301                            Dangerous Beauty (1998)   \n",
       "33    1501      20.057252  Prisoner of the Mountains (Kavkazsky Plennik) ...   \n",
       "12    1261      24.785660                     Run of the Country, The (1995)   \n",
       "24    1255      21.750924                              Broken English (1996)   \n",
       "13    1123      24.524028                  Last Time I Saw Paris, The (1954)   \n",
       "16    1450      24.262120                             Golden Earrings (1947)   \n",
       "8      766      26.590175                             Man of the Year (1995)   \n",
       "22    1474      21.877034                          Nina Takes a Lover (1994)   \n",
       "0     1356      52.867173                              Ed's Next Move (1996)   \n",
       "32    1158      20.458337             Fille seule, La (A Single Girl) (1995)   \n",
       "28     927      20.730153  Flower of My Secret, The (Flor de mi secreto, ...   \n",
       "25    1499      21.529748                              Grosse Fatigue (1994)   \n",
       "\n",
       "    prediction  \n",
       "37    5.000000  \n",
       "36    5.000000  \n",
       "7     4.666667  \n",
       "18    4.600000  \n",
       "4     4.500000  \n",
       "14    4.500000  \n",
       "27    4.490052  \n",
       "29    4.333333  \n",
       "26    4.271915  \n",
       "39    4.000000  \n",
       "31    4.000000  \n",
       "19    4.000000  \n",
       "21    4.000000  \n",
       "23    4.000000  \n",
       "10    4.000000  \n",
       "2     4.000000  \n",
       "3     3.777778  \n",
       "1     3.666528  \n",
       "30    3.610294  \n",
       "35    3.610294  \n",
       "38    3.610294  \n",
       "34    3.610294  \n",
       "20    3.610294  \n",
       "9     3.610294  \n",
       "5     3.610294  \n",
       "6     3.610294  \n",
       "15    3.610294  \n",
       "11    3.610294  \n",
       "17    3.500000  \n",
       "33    3.401879  \n",
       "12    3.333333  \n",
       "24    3.265749  \n",
       "13    3.200000  \n",
       "16    3.142978  \n",
       "8     3.000000  \n",
       "22    3.000000  \n",
       "0     2.280926  \n",
       "32    2.000000  \n",
       "28    1.665010  \n",
       "25    1.122032  "
      ]
     },
     "execution_count": 23,
     "metadata": {},
     "output_type": "execute_result"
    }
   ],
   "source": [
    "topn_predict"
   ]
  },
  {
   "cell_type": "code",
   "execution_count": 24,
   "metadata": {
    "id": "CJ5mqL--wSeR"
   },
   "outputs": [],
   "source": [
    "from recsys.preprocessing import train_test_split, get_examples\n",
    "\n",
    "\n",
    "raw_examples, raw_labels = get_examples(ratings, labels_column='rating')\n",
    "\n",
    "# training testing split\n",
    "(x_training, x_testing), (y_train, y_testing) = train_test_split(examples=raw_examples, labels=raw_labels)\n",
    "\n",
    "def evaluate(x_testing, y_testing):\n",
    "    print('Evaluate the model on {} test data ...'.format(x_testing.shape[0]))\n",
    "    preds = list(predict(u,i) for (u,i) in x_testing)\n",
    "    mae = np.sum(np.absolute(y_testing - np.array(preds))) / x_testing.shape[0]\n",
    "    print('\\nMAE :', mae)\n",
    "    return mae"
   ]
  },
  {
   "cell_type": "code",
   "execution_count": 25,
   "metadata": {
    "colab": {
     "base_uri": "https://localhost:8080/"
    },
    "id": "S0nBIh5EwSeR",
    "outputId": "5ed13c61-dd4e-4931-85e7-ec388c9d50c8"
   },
   "outputs": [
    {
     "name": "stdout",
     "output_type": "stream",
     "text": [
      "Evaluate the model on 10000 test data ...\n",
      "\n",
      "MAE : 0.672389703640273\n"
     ]
    },
    {
     "data": {
      "text/plain": [
       "0.672389703640273"
      ]
     },
     "execution_count": 25,
     "metadata": {},
     "output_type": "execute_result"
    }
   ],
   "source": [
    "evaluate(x_testing, y_testing)"
   ]
  },
  {
   "cell_type": "markdown",
   "metadata": {
    "id": "1-fjyrYJwSeR"
   },
   "source": [
    "### Summary"
   ]
  },
  {
   "cell_type": "code",
   "execution_count": 26,
   "metadata": {
    "id": "81e-OJLwwSeR"
   },
   "outputs": [],
   "source": [
    "from recsys.memories.ItemToItem import ItemToItem\n",
    "from recsys.preprocessing import ids_encoder, train_test_split, get_examples\n",
    "from recsys.datasets import ml100k\n",
    "\n",
    "# loading  data\n",
    "ratings, movies = ml100k.load()\n",
    "\n",
    "# preparing data\n",
    "ratings, uencoder, iencoder = ids_encoder(ratings)\n",
    "\n",
    "\n",
    "raw_examples, raw_labels = get_examples(ratings, labels_column='rating')\n",
    "\n",
    "# training testing  split\n",
    "(x_training, x_testing), (y_train, y_testing) = train_test_split(examples=raw_examples, labels=raw_labels)"
   ]
  },
  {
   "cell_type": "code",
   "execution_count": 27,
   "metadata": {
    "colab": {
     "base_uri": "https://localhost:8080/"
    },
    "id": "KpubqJ5IwSeR",
    "outputId": "3ded9988-a1aa-4527-feb3-2bb19646f7ee"
   },
   "outputs": [
    {
     "name": "stdout",
     "output_type": "stream",
     "text": [
      "Normalize ratings ...\n",
      "Create the similarity model ...\n",
      "Compute nearest neighbors ...\n",
      "Item to item recommendation model created with success ...\n"
     ]
    }
   ],
   "source": [
    "# using Item-based CF\n",
    "item2item = ItemToItem(ratings, movies, k=20, metric='cosine', dataset_name='ml100k')"
   ]
  },
  {
   "cell_type": "code",
   "execution_count": 28,
   "metadata": {
    "colab": {
     "base_uri": "https://localhost:8080/"
    },
    "id": "nFl7oFXRwSeR",
    "outputId": "0facd4f7-4afc-4bb3-ed45-1b52313d3e97"
   },
   "outputs": [
    {
     "name": "stdout",
     "output_type": "stream",
     "text": [
      "Evaluate the model on 10000 test data ...\n",
      "\n",
      "MAE : 0.507794195659005\n"
     ]
    },
    {
     "data": {
      "text/plain": [
       "0.507794195659005"
      ]
     },
     "execution_count": 28,
     "metadata": {},
     "output_type": "execute_result"
    }
   ],
   "source": [
    "# evaluating item based on testing dataset\n",
    "item2item.evaluate(x_testing, y_testing)"
   ]
  },
  {
   "cell_type": "markdown",
   "metadata": {
    "id": "-KT8qE7xwSeR"
   },
   "source": [
    "#### Evaluate the Item-based CF on the ML-1M dataset"
   ]
  },
  {
   "cell_type": "code",
   "execution_count": 29,
   "metadata": {
    "colab": {
     "base_uri": "https://localhost:8080/"
    },
    "id": "YskiJfbdwSeR",
    "outputId": "c45f2a01-3186-490d-dab7-ee7ed9a427bf"
   },
   "outputs": [
    {
     "name": "stdout",
     "output_type": "stream",
     "text": [
      "Download data 100.1%\n",
      "Successfully downloaded ml-1m.zip 5917549 bytes.\n",
      "Unzipping the ml-1m.zip zip file ...\n",
      "Normalize ratings ...\n",
      "Create the similarity model ...\n",
      "Compute nearest neighbors ...\n",
      "Item to item recommendation model created with success ...\n",
      "=========================\n",
      "Evaluate the model on 100021 test data ...\n",
      "\n",
      "MAE : 0.42514728655396045\n"
     ]
    },
    {
     "data": {
      "text/plain": [
       "0.42514728655396045"
      ]
     },
     "execution_count": 29,
     "metadata": {},
     "output_type": "execute_result"
    }
   ],
   "source": [
    "from recsys.memories.ItemToItem import ItemToItem\n",
    "from recsys.preprocessing import ids_encoder, train_test_split, get_examples\n",
    "from recsys.datasets import ml1m\n",
    "\n",
    "# loading data\n",
    "ratings, movies = ml1m.load()\n",
    "\n",
    "# preparing data\n",
    "ratings, uencoder, iencoder = ids_encoder(ratings)\n",
    "\n",
    "\n",
    "raw_examples, raw_labels = get_examples(ratings, labels_column='rating')\n",
    "\n",
    "# training testing split\n",
    "(x_training, x_testing), (y_train, y_testing) = train_test_split(examples=raw_examples, labels=raw_labels)\n",
    "\n",
    "# Item-based_ CF\n",
    "item2item = ItemToItem(ratings, movies, k=20, metric='cosine', dataset_name='ml1m')\n",
    "\n",
    "# evaluating Item based on testing dataset\n",
    "print(\"=========================\")\n",
    "item2item.evaluate(x_testing, y_testing)"
   ]
  }
 ],
 "metadata": {
  "colab": {
   "provenance": []
  },
  "kernelspec": {
   "display_name": "Python 3 (ipykernel)",
   "language": "python",
   "name": "python3"
  },
  "language_info": {
   "codemirror_mode": {
    "name": "ipython",
    "version": 3
   },
   "file_extension": ".py",
   "mimetype": "text/x-python",
   "name": "python",
   "nbconvert_exporter": "python",
   "pygments_lexer": "ipython3",
   "version": "3.9.7"
  }
 },
 "nbformat": 4,
 "nbformat_minor": 1
}
